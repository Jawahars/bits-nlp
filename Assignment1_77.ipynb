{
  "cells": [
    {
      "cell_type": "markdown",
      "metadata": {
        "id": "aeA_0nGubldy"
      },
      "source": [
        "# **Natural Language Processing (S1-24_AIMLCZG530)  Assignment_1_PS-5**\n",
        "---\n",
        "\n",
        "### **Member Names:**\n",
        "1. Vishal M (2023aa05334)\n",
        "2. Shyam Kaushik (2023ac05633)\n",
        "3. Jawaharlal Rajan S (2023ac05504)\n",
        "4. Shailesh Kumar Singh (2023ac05475)\n",
        "5. Aghav Sayali Sakaharam (2023ac05435)\n",
        "\n"
      ]
    },
    {
      "cell_type": "markdown",
      "metadata": {
        "id": "q2Fokv2CdI5i"
      },
      "source": [
        "## **Libraries**"
      ]
    },
    {
      "cell_type": "code",
      "execution_count": null,
      "metadata": {
        "colab": {
          "base_uri": "https://localhost:8080/"
        },
        "id": "3p4zu_seWUnn",
        "outputId": "81b6941d-ddf2-429f-e719-0e538110da0c"
      },
      "outputs": [],
      "source": [
        "# Libraries Required\n",
        "!pip install pandas spacy matplotlib wordcloud\n",
        "!python -m spacy download en_core_web_sm\n"
      ]
    },
    {
      "cell_type": "markdown",
      "metadata": {
        "id": "S-F7z5mndMIb"
      },
      "source": [
        "### **1. Dataset Preparation**"
      ]
    },
    {
      "cell_type": "code",
      "execution_count": 59,
      "metadata": {
        "colab": {
          "base_uri": "https://localhost:8080/",
          "height": 206
        },
        "id": "Ja_Hh_uCWXmB",
        "outputId": "7c3f6abe-0e1a-4e6c-9201-78010c4d7604"
      },
      "outputs": [
        {
          "data": {
            "text/html": [
              "<div>\n",
              "<style scoped>\n",
              "    .dataframe tbody tr th:only-of-type {\n",
              "        vertical-align: middle;\n",
              "    }\n",
              "\n",
              "    .dataframe tbody tr th {\n",
              "        vertical-align: top;\n",
              "    }\n",
              "\n",
              "    .dataframe thead th {\n",
              "        text-align: right;\n",
              "    }\n",
              "</style>\n",
              "<table border=\"1\" class=\"dataframe\">\n",
              "  <thead>\n",
              "    <tr style=\"text-align: right;\">\n",
              "      <th></th>\n",
              "      <th>asin</th>\n",
              "      <th>name</th>\n",
              "      <th>rating</th>\n",
              "      <th>date</th>\n",
              "      <th>verified</th>\n",
              "      <th>title</th>\n",
              "      <th>body</th>\n",
              "      <th>helpfulVotes</th>\n",
              "    </tr>\n",
              "  </thead>\n",
              "  <tbody>\n",
              "    <tr>\n",
              "      <th>0</th>\n",
              "      <td>B0000SX2UC</td>\n",
              "      <td>Janet</td>\n",
              "      <td>3</td>\n",
              "      <td>October 11, 2005</td>\n",
              "      <td>False</td>\n",
              "      <td>Def not best, but not worst</td>\n",
              "      <td>I had the Samsung A600 for awhile which is abs...</td>\n",
              "      <td>1.0</td>\n",
              "    </tr>\n",
              "    <tr>\n",
              "      <th>1</th>\n",
              "      <td>B0000SX2UC</td>\n",
              "      <td>Luke Wyatt</td>\n",
              "      <td>1</td>\n",
              "      <td>January 7, 2004</td>\n",
              "      <td>False</td>\n",
              "      <td>Text Messaging Doesn't Work</td>\n",
              "      <td>Due to a software issue between Nokia and Spri...</td>\n",
              "      <td>17.0</td>\n",
              "    </tr>\n",
              "    <tr>\n",
              "      <th>2</th>\n",
              "      <td>B0000SX2UC</td>\n",
              "      <td>Brooke</td>\n",
              "      <td>5</td>\n",
              "      <td>December 30, 2003</td>\n",
              "      <td>False</td>\n",
              "      <td>Love This Phone</td>\n",
              "      <td>This is a great, reliable phone. I also purcha...</td>\n",
              "      <td>5.0</td>\n",
              "    </tr>\n",
              "    <tr>\n",
              "      <th>3</th>\n",
              "      <td>B0000SX2UC</td>\n",
              "      <td>amy m. teague</td>\n",
              "      <td>3</td>\n",
              "      <td>March 18, 2004</td>\n",
              "      <td>False</td>\n",
              "      <td>Love the Phone, BUT...!</td>\n",
              "      <td>I love the phone and all, because I really did...</td>\n",
              "      <td>1.0</td>\n",
              "    </tr>\n",
              "    <tr>\n",
              "      <th>4</th>\n",
              "      <td>B0000SX2UC</td>\n",
              "      <td>tristazbimmer</td>\n",
              "      <td>4</td>\n",
              "      <td>August 28, 2005</td>\n",
              "      <td>False</td>\n",
              "      <td>Great phone service and options, lousy case!</td>\n",
              "      <td>The phone has been great for every purpose it ...</td>\n",
              "      <td>1.0</td>\n",
              "    </tr>\n",
              "  </tbody>\n",
              "</table>\n",
              "</div>"
            ],
            "text/plain": [
              "         asin           name  rating               date  verified  \\\n",
              "0  B0000SX2UC          Janet       3   October 11, 2005     False   \n",
              "1  B0000SX2UC     Luke Wyatt       1    January 7, 2004     False   \n",
              "2  B0000SX2UC         Brooke       5  December 30, 2003     False   \n",
              "3  B0000SX2UC  amy m. teague       3     March 18, 2004     False   \n",
              "4  B0000SX2UC  tristazbimmer       4    August 28, 2005     False   \n",
              "\n",
              "                                          title  \\\n",
              "0                   Def not best, but not worst   \n",
              "1                   Text Messaging Doesn't Work   \n",
              "2                               Love This Phone   \n",
              "3                       Love the Phone, BUT...!   \n",
              "4  Great phone service and options, lousy case!   \n",
              "\n",
              "                                                body  helpfulVotes  \n",
              "0  I had the Samsung A600 for awhile which is abs...           1.0  \n",
              "1  Due to a software issue between Nokia and Spri...          17.0  \n",
              "2  This is a great, reliable phone. I also purcha...           5.0  \n",
              "3  I love the phone and all, because I really did...           1.0  \n",
              "4  The phone has been great for every purpose it ...           1.0  "
            ]
          },
          "execution_count": 59,
          "metadata": {},
          "output_type": "execute_result"
        }
      ],
      "source": [
        "# Step 1: Load Dataset and Prepare Data\n",
        "import pandas as pd\n",
        "\n",
        "# Load the dataset\n",
        "url = \"Amazon Cell Phone reviews.csv\"  # Use the correct path to your file\n",
        "df = pd.read_csv(url)\n",
        "\n",
        "# Inspect the first few rows of the dataset\n",
        "df.head()\n"
      ]
    },
    {
      "cell_type": "markdown",
      "metadata": {
        "id": "Nk5w8s2Gdfqz"
      },
      "source": [
        "### **Cleaning Dataset**\n",
        "\n",
        "Removing punctuation, numbers, and special characters an eliminating stop words.\n",
        "\n",
        " In the output below 'I had the Samsung A600 for awhile ...' is reduced to 'samsung awhile ...'"
      ]
    },
    {
      "cell_type": "code",
      "execution_count": 60,
      "metadata": {
        "colab": {
          "base_uri": "https://localhost:8080/"
        },
        "id": "u2n0LxKLWfIF",
        "outputId": "00b349aa-17ba-4c4f-8b08-30077ff58e72"
      },
      "outputs": [
        {
          "data": {
            "text/plain": [
              "0    samsung awhile absolute doo doo read review de...\n",
              "1    software issue nokia sprint phone text messagi...\n",
              "2    great reliable phone purchased phone samsung d...\n",
              "3    love phone need expect price bill received pho...\n",
              "4    phone great purpose offers day bought nt case ...\n",
              "Name: cleaned_body, dtype: object"
            ]
          },
          "execution_count": 60,
          "metadata": {},
          "output_type": "execute_result"
        }
      ],
      "source": [
        "# Step 2: Clean the Dataset\n",
        "import spacy\n",
        "\n",
        "# Load English spaCy model\n",
        "nlp = spacy.load(\"en_core_web_sm\")\n",
        "\n",
        "# Function for text cleaning\n",
        "def clean_text(text):\n",
        "    doc = nlp(text.lower())\n",
        "    # remove punctuation, numbers and stop words\n",
        "    filtered = [token.text for token in doc if not token.is_stop and token.is_alpha]\n",
        "    return ' '.join(filtered)\n",
        "\n",
        "# Apply the function to the review body column\n",
        "df['cleaned_body'] = df['body'].apply(clean_text)\n",
        "\n",
        "df['cleaned_body'].head()\n",
        "\n"
      ]
    },
    {
      "cell_type": "markdown",
      "metadata": {
        "id": "OhBrNAbCdvc_"
      },
      "source": [
        "### **Normalization**\n",
        "\n",
        "Reducing words to their base or root form using stemming or lemmatization. When performing Part-of-Speech (POS) tagging, lemmatization is generally preferred over stemming because it provides the base dictionary form (lemma) of words while considering the context and meaning.\n",
        "\n",
        "For example, in the output below, 'purchases' is reduced to 'purchase'."
      ]
    },
    {
      "cell_type": "code",
      "execution_count": 61,
      "metadata": {
        "id": "IhF0yZnCWx_K"
      },
      "outputs": [
        {
          "data": {
            "text/plain": [
              "0    samsung awhile absolute doo doo read review de...\n",
              "1    software issue nokia sprint phone text message...\n",
              "2    great reliable phone purchase phone samsung di...\n",
              "3    love phone need expect price bill receive phon...\n",
              "4    phone great purpose offer day buy not case cas...\n",
              "Name: lemmatized_body, dtype: object"
            ]
          },
          "execution_count": 61,
          "metadata": {},
          "output_type": "execute_result"
        }
      ],
      "source": [
        "# Step 3: Normalization (Stemming or Lemmatization)\n",
        "\n",
        "# Load English tokenizer and lemmatizer\n",
        "\n",
        "# Function to perform lemmatization\n",
        "def lemmatize_text(text):\n",
        "    doc = nlp(text)\n",
        "    return ' '.join([token.lemma_ for token in doc])\n",
        "\n",
        "# Apply lemmatization\n",
        "df['lemmatized_body'] = df['cleaned_body'].apply(lemmatize_text)\n",
        "\n",
        "df['lemmatized_body'].head()\n"
      ]
    },
    {
      "cell_type": "markdown",
      "metadata": {
        "id": "O0-TmkHtdz15"
      },
      "source": [
        "### **2. POS tagging**\n",
        "Apply a POS tagging algorithm or utilize a pretrained POS tagger to assign POS tags to the words in the dataset.\n",
        "\n",
        "Here let's use pos_ attribute in spaCy that is powered by a pretrained POS tagger.\n",
        "\n",
        "In the output below, (samsung, PROPN) means samsung is identified as proper noun rightly."
      ]
    },
    {
      "cell_type": "code",
      "execution_count": 62,
      "metadata": {
        "id": "DjhbG_P-W1PY"
      },
      "outputs": [
        {
          "data": {
            "text/plain": [
              "0    [(samsung, PROPN), (awhile, PROPN), (absolute,...\n",
              "1    [(software, NOUN), (issue, NOUN), (nokia, NOUN...\n",
              "2    [(great, ADJ), (reliable, ADJ), (phone, NOUN),...\n",
              "3    [(love, NOUN), (phone, NOUN), (need, NOUN), (e...\n",
              "4    [(phone, NOUN), (great, ADJ), (purpose, NOUN),...\n",
              "Name: pos_tags, dtype: object"
            ]
          },
          "execution_count": 62,
          "metadata": {},
          "output_type": "execute_result"
        }
      ],
      "source": [
        "# Step 4: POS Tagging\n",
        "# Function for POS tagging using SpaCy\n",
        "def pos_tag_text(text):\n",
        "    doc = nlp(text)\n",
        "    return [(token.text, token.pos_) for token in doc]\n",
        "\n",
        "# Apply the POS tagging\n",
        "df['pos_tags'] = df['lemmatized_body'].apply(pos_tag_text)\n",
        "df['pos_tags'].head()"
      ]
    },
    {
      "cell_type": "markdown",
      "metadata": {
        "id": "-Ggxlp9kfMgg"
      },
      "source": [
        "### **a. Calculate Frequency of POS Tags**\n",
        "\n",
        "The frequency of various POS tags are printed as output."
      ]
    },
    {
      "cell_type": "code",
      "execution_count": 63,
      "metadata": {
        "colab": {
          "base_uri": "https://localhost:8080/"
        },
        "id": "hZO1lbuIXARn",
        "outputId": "2752f18c-e0f5-4f57-8f60-3efcf0a0d957"
      },
      "outputs": [
        {
          "name": "stdout",
          "output_type": "stream",
          "text": [
            "Counter({'NOUN': 26129, 'ADJ': 8286, 'VERB': 7011, 'PROPN': 3377, 'ADV': 2081, 'ADP': 524, 'AUX': 388, 'INTJ': 282, 'PART': 124, 'PRON': 74, 'X': 65, 'CCONJ': 54, 'SCONJ': 48, 'NUM': 36, 'DET': 16, 'PUNCT': 4})\n"
          ]
        }
      ],
      "source": [
        "# Step 5: Calculate Frequency of POS Tags\n",
        "from collections import Counter\n",
        "\n",
        "# Extract all POS tags into a list\n",
        "all_pos_tags = [tag for sublist in df['pos_tags'] for _, tag in sublist]\n",
        "\n",
        "# Calculate the frequency of each POS tag\n",
        "pos_frequency = Counter(all_pos_tags)\n",
        "\n",
        "# Print the frequencies\n",
        "print(pos_frequency)\n"
      ]
    },
    {
      "cell_type": "markdown",
      "metadata": {
        "id": "V9X-LqohfSTp"
      },
      "source": [
        "### **b. Most common POS tags**\n",
        "\n",
        "Let's consider top 10 most common tags"
      ]
    },
    {
      "cell_type": "code",
      "execution_count": 64,
      "metadata": {
        "colab": {
          "base_uri": "https://localhost:8080/"
        },
        "id": "GdFnz4rVXHAo",
        "outputId": "9722cfd7-e8b0-4600-f0cc-e960bd508315"
      },
      "outputs": [
        {
          "name": "stdout",
          "output_type": "stream",
          "text": [
            "Most common POS tags: [('NOUN', 26129), ('ADJ', 8286), ('VERB', 7011), ('PROPN', 3377), ('ADV', 2081), ('ADP', 524), ('AUX', 388), ('INTJ', 282), ('PART', 124), ('PRON', 74)]\n"
          ]
        }
      ],
      "source": [
        "# Most common POS tags\n",
        "common_pos_tags = pos_frequency.most_common(10)\n",
        "print(\"Most common POS tags:\", common_pos_tags)\n"
      ]
    },
    {
      "cell_type": "markdown",
      "metadata": {
        "id": "sqDDBPFAfXu3"
      },
      "source": [
        "### **c. Extract and print sentences containing specific POS tags.**\n",
        "\n",
        "The output prints some example statement with NOUN, VERB etc."
      ]
    },
    {
      "cell_type": "code",
      "execution_count": 65,
      "metadata": {
        "colab": {
          "base_uri": "https://localhost:8080/"
        },
        "id": "7LiM2ZwFXIwm",
        "outputId": "5a417088-1724-46cc-9b78-db61fcc72861"
      },
      "outputs": [
        {
          "name": "stdout",
          "output_type": "stream",
          "text": [
            "Sentences with Nouns: ['doo review rage thing nokia garage sale wonder hate menu scroll phone number category u pain vibrate class ring way silence thing way case mission nail process damage case time reason phone start problem opening button vibration reception elevator feat phone lose service pocket phone work ring tone phone battery life heat potatoe phone screen way customize scroll bar phone serve purpose comparison phone come sprint', 'software issue nokia sprint phone text message capability work sprint system patch time month hour sprint award win customer service team admit problem nokia design phone message retrieve way provider work sprint people hook server minute check inbox reply sprint server innovation money', 'phone purchase phone speed dialing number voice dial feature speed dialing thing snake phone game bowling tennis ringer feature ringer person ringtone download phone vibrate ringtone tone price range', 'love phone need price bill phone month accessory suppose phone time company wait couple week phone talking phone call', 'phone purpose offer day case case picture jaket store employee case deal casing case charge time']\n",
            "Sentences with Verbs: ['doo review rage thing nokia garage sale wonder hate menu scroll phone number category u pain vibrate class ring way silence thing way case mission nail process damage case time reason phone start problem opening button vibration reception elevator feat phone lose service pocket phone work ring tone phone battery life heat potatoe phone screen way customize scroll bar phone serve purpose comparison phone come sprint', 'software issue nokia sprint phone text message capability work sprint system patch time month hour sprint award win customer service team admit problem nokia design phone message retrieve way provider work sprint people hook server minute check inbox reply sprint server innovation money', 'phone purchase phone speed dialing number voice dial feature speed dialing thing snake phone game bowling tennis ringer feature ringer person ringtone download phone vibrate ringtone tone price range', 'love phone need price bill phone month accessory suppose phone time company wait couple week phone talking phone call', 'phone purpose offer day case case picture jaket store employee case deal casing case charge time']\n",
            "Sentences with Adj: ['doo review rage thing nokia garage sale wonder hate menu scroll phone number category u pain vibrate class ring way silence thing way case mission nail process damage case time reason phone start problem opening button vibration reception elevator feat phone lose service pocket phone work ring tone phone battery life heat potatoe phone screen way customize scroll bar phone serve purpose comparison phone come sprint', 'software issue nokia sprint phone text message capability work sprint system patch time month hour sprint award win customer service team admit problem nokia design phone message retrieve way provider work sprint people hook server minute check inbox reply sprint server innovation money', 'phone purchase phone speed dialing number voice dial feature speed dialing thing snake phone game bowling tennis ringer feature ringer person ringtone download phone vibrate ringtone tone price range', 'love phone need price bill phone month accessory suppose phone time company wait couple week phone talking phone call', 'phone purpose offer day case case picture jaket store employee case deal casing case charge time']\n",
            "Sentences with Propn: ['doo review rage thing nokia garage sale wonder hate menu scroll phone number category u pain vibrate class ring way silence thing way case mission nail process damage case time reason phone start problem opening button vibration reception elevator feat phone lose service pocket phone work ring tone phone battery life heat potatoe phone screen way customize scroll bar phone serve purpose comparison phone come sprint', 'software issue nokia sprint phone text message capability work sprint system patch time month hour sprint award win customer service team admit problem nokia design phone message retrieve way provider work sprint people hook server minute check inbox reply sprint server innovation money', 'phone purchase phone speed dialing number voice dial feature speed dialing thing snake phone game bowling tennis ringer feature ringer person ringtone download phone vibrate ringtone tone price range', 'love phone need price bill phone month accessory suppose phone time company wait couple week phone talking phone call', 'phone purpose offer day case case picture jaket store employee case deal casing case charge time']\n"
          ]
        }
      ],
      "source": [
        "# Extract Sentences Containing Specific POS Tags\n",
        "# Function to extract sentences with specific POS tags\n",
        "def extract_sentences_by_pos(df, pos_tag):\n",
        "    sentences = []\n",
        "    for pos_tags in df['pos_tags']:\n",
        "        sentence = ' '.join([word for word, tag in pos_tags if tag == pos_tag])\n",
        "        if sentence:\n",
        "            sentences.append(sentence)\n",
        "    return sentences\n",
        "\n",
        "# Extract sentences containing nouns (NN)\n",
        "noun_sentences = extract_sentences_by_pos(df, \"NOUN\")\n",
        "verb_sentences = extract_sentences_by_pos(df, \"VERB\")\n",
        "adj_sentences = extract_sentences_by_pos(df, \"ADJ\")\n",
        "propn_sentences = extract_sentences_by_pos(df, \"PROPN\")\n",
        "\n",
        "print(\"Sentences with Nouns:\", noun_sentences[:5])\n",
        "print(\"Sentences with Verbs:\", noun_sentences[:5])\n",
        "print(\"Sentences with Adj:\", noun_sentences[:5])\n",
        "print(\"Sentences with Propn:\", noun_sentences[:5])\n"
      ]
    },
    {
      "cell_type": "markdown",
      "metadata": {
        "id": "pijM-j33gTNz"
      },
      "source": [
        "### 3. **POS TAG Visualizations**"
      ]
    },
    {
      "cell_type": "code",
      "execution_count": 66,
      "metadata": {
        "colab": {
          "base_uri": "https://localhost:8080/",
          "height": 750
        },
        "id": "pYWKpSWQXM0G",
        "outputId": "958e9d2f-cfda-4786-c323-fe72eea32ba0"
      },
      "outputs": [
        {
          "data": {
            "image/png": "[encoded data removed]",
            "text/plain": [
              "<Figure size 640x480 with 1 Axes>"
            ]
          },
          "metadata": {},
          "output_type": "display_data"
        },
        {
          "data": {
            "image/png": "[encoded data removed]",
            "text/plain": [
              "<Figure size 640x480 with 1 Axes>"
            ]
          },
          "metadata": {},
          "output_type": "display_data"
        }
      ],
      "source": [
        "# Visualizations\n",
        "import matplotlib.pyplot as plt\n",
        "from wordcloud import WordCloud\n",
        "\n",
        "# Bar chart for POS tag frequency\n",
        "pos_labels, pos_values = zip(*pos_frequency.items())\n",
        "\n",
        "plt.bar(pos_labels, pos_values)\n",
        "plt.xticks(rotation=45)\n",
        "plt.title('POS Tag Frequency')\n",
        "plt.show()\n",
        "\n",
        "# Word cloud for POS tags\n",
        "wordcloud = WordCloud(width=800, height=400).generate_from_frequencies(pos_frequency)\n",
        "plt.imshow(wordcloud, interpolation='bilinear')\n",
        "plt.axis(\"off\")\n",
        "plt.show()\n"
      ]
    },
    {
      "cell_type": "markdown",
      "metadata": {},
      "source": [
        "As per the above chart & wordcloud, NOUN, ADJECTIVE and VERB are the majorly occuring POS."
      ]
    },
    {
      "cell_type": "markdown",
      "metadata": {
        "id": "pqIOlEY_gnKe"
      },
      "source": [
        "### **5. HMM POS tagging**\n",
        "\n",
        "For HMM POS tagging, let's use NLTK’s HMM POS tagger."
      ]
    },
    {
      "cell_type": "code",
      "execution_count": 67,
      "metadata": {},
      "outputs": [
        {
          "name": "stderr",
          "output_type": "stream",
          "text": [
            "[nltk_data] Downloading package treebank to\n",
            "[nltk_data]     /Users/jawahar/nltk_data...\n",
            "[nltk_data]   Package treebank is already up-to-date!\n",
            "[nltk_data] Downloading package punkt to /Users/jawahar/nltk_data...\n",
            "[nltk_data]   Package punkt is already up-to-date!\n"
          ]
        }
      ],
      "source": [
        "import nltk\n",
        "from nltk.corpus import treebank\n",
        "from nltk.tag import hmm\n",
        "\n",
        "# Download necessary NLTK resources\n",
        "nltk.download('treebank')\n",
        "nltk.download('punkt')\n",
        "\n",
        "# Load tagged corpus from the treebank\n",
        "train_sents = treebank.tagged_sents()\n",
        "\n",
        "# Initialize and train the HMM POS tagger\n",
        "trainer = hmm.HiddenMarkovModelTrainer()\n",
        "hmm_tagger = trainer.train(train_sents)"
      ]
    },
    {
      "cell_type": "markdown",
      "metadata": {},
      "source": [
        "After HMM POS tagging, samsung is tagged as NNP (plural noun)."
      ]
    },
    {
      "cell_type": "code",
      "execution_count": 68,
      "metadata": {
        "colab": {
          "base_uri": "https://localhost:8080/",
          "height": 279
        },
        "id": "LnIgk26ZXOTO",
        "outputId": "b538a612-9042-42f9-fe2a-7f89f7395098"
      },
      "outputs": [
        {
          "name": "stderr",
          "output_type": "stream",
          "text": [
            "/Users/jawahar/Documents/bitsMTech/sem2/nlp/assignment1/.venv/lib/python3.12/site-packages/nltk/tag/hmm.py:333: RuntimeWarning: overflow encountered in cast\n",
            "  X[i, j] = self._transitions[si].logprob(self._states[j])\n",
            "/Users/jawahar/Documents/bitsMTech/sem2/nlp/assignment1/.venv/lib/python3.12/site-packages/nltk/tag/hmm.py:335: RuntimeWarning: overflow encountered in cast\n",
            "  O[i, k] = self._output_logprob(si, self._symbols[k])\n",
            "/Users/jawahar/Documents/bitsMTech/sem2/nlp/assignment1/.venv/lib/python3.12/site-packages/nltk/tag/hmm.py:331: RuntimeWarning: overflow encountered in cast\n",
            "  P[i] = self._priors.logprob(si)\n",
            "/Users/jawahar/Documents/bitsMTech/sem2/nlp/assignment1/.venv/lib/python3.12/site-packages/nltk/tag/hmm.py:363: RuntimeWarning: overflow encountered in cast\n",
            "  O[i, k] = self._output_logprob(si, self._symbols[k])\n"
          ]
        },
        {
          "data": {
            "text/html": [
              "<div>\n",
              "<style scoped>\n",
              "    .dataframe tbody tr th:only-of-type {\n",
              "        vertical-align: middle;\n",
              "    }\n",
              "\n",
              "    .dataframe tbody tr th {\n",
              "        vertical-align: top;\n",
              "    }\n",
              "\n",
              "    .dataframe thead th {\n",
              "        text-align: right;\n",
              "    }\n",
              "</style>\n",
              "<table border=\"1\" class=\"dataframe\">\n",
              "  <thead>\n",
              "    <tr style=\"text-align: right;\">\n",
              "      <th></th>\n",
              "      <th>body</th>\n",
              "      <th>hmm_pos_tags</th>\n",
              "    </tr>\n",
              "  </thead>\n",
              "  <tbody>\n",
              "    <tr>\n",
              "      <th>0</th>\n",
              "      <td>I had the Samsung A600 for awhile which is abs...</td>\n",
              "      <td>[(samsung, NNP), (awhile, NNP), (absolute, NNP...</td>\n",
              "    </tr>\n",
              "    <tr>\n",
              "      <th>1</th>\n",
              "      <td>Due to a software issue between Nokia and Spri...</td>\n",
              "      <td>[(software, NN), (issue, NN), (nokia, NNP), (s...</td>\n",
              "    </tr>\n",
              "    <tr>\n",
              "      <th>2</th>\n",
              "      <td>This is a great, reliable phone. I also purcha...</td>\n",
              "      <td>[(great, JJ), (reliable, NNP), (phone, NNP), (...</td>\n",
              "    </tr>\n",
              "    <tr>\n",
              "      <th>3</th>\n",
              "      <td>I love the phone and all, because I really did...</td>\n",
              "      <td>[(love, NNP), (phone, NNP), (need, NNP), (expe...</td>\n",
              "    </tr>\n",
              "  </tbody>\n",
              "</table>\n",
              "</div>"
            ],
            "text/plain": [
              "                                                body  \\\n",
              "0  I had the Samsung A600 for awhile which is abs...   \n",
              "1  Due to a software issue between Nokia and Spri...   \n",
              "2  This is a great, reliable phone. I also purcha...   \n",
              "3  I love the phone and all, because I really did...   \n",
              "\n",
              "                                        hmm_pos_tags  \n",
              "0  [(samsung, NNP), (awhile, NNP), (absolute, NNP...  \n",
              "1  [(software, NN), (issue, NN), (nokia, NNP), (s...  \n",
              "2  [(great, JJ), (reliable, NNP), (phone, NNP), (...  \n",
              "3  [(love, NNP), (phone, NNP), (need, NNP), (expe...  "
            ]
          },
          "execution_count": 68,
          "metadata": {},
          "output_type": "execute_result"
        }
      ],
      "source": [
        "# Display HMM POS tagging on the first 4 rows\n",
        "df_head = df.head(4).copy()  # Make sure it's a copy to avoid warnings\n",
        "df_head.loc[:, 'hmm_pos_tags'] = df_head['lemmatized_body'].apply(lambda x: hmm_tagger.tag(x.split()))  # Use .loc[] to set the column\n",
        "df_head[['body', 'hmm_pos_tags']]"
      ]
    },
    {
      "cell_type": "markdown",
      "metadata": {
        "id": "FLUOKjVvgun1"
      },
      "source": [
        "### **6. POS and NER tags**\n",
        "a. Select a few sentences from the dataset and display both their POS tags and NER tags. \n",
        "\n",
        "We are printing the POS and NER for few sentences in the dataset."
      ]
    },
    {
      "cell_type": "code",
      "execution_count": 69,
      "metadata": {
        "colab": {
          "base_uri": "https://localhost:8080/"
        },
        "id": "xDAJjJpBXYqz",
        "outputId": "77cc6406-d686-44e1-c90c-5c0868576054"
      },
      "outputs": [
        {
          "name": "stdout",
          "output_type": "stream",
          "text": [
            "POS Tags: [('friend', 'NOUN'), ('show', 'NOUN'), ('impressed', 'VERB'), ('went', 'VERB'), ('buy', 'VERB'), ('locked', 'ADJ'), ('try', 'NOUN'), ('test', 'NOUN'), ('network', 'NOUN'), ('use', 'VERB'), ('impression', 'NOUN'), ('nokia', 'NOUN'), ('phone', 'NOUN'), ('good', 'ADJ'), ('window', 'NOUN'), ('software', 'NOUN'), ('turn', 'NOUN'), ('nokia', 'NOUN'), ('phone', 'PROPN'), ('well', 'ADV'), ('own', 'ADJ'), ('window', 'NOUN'), ('good', 'ADJ'), ('phone', 'NOUN'), ('attractive', 'ADJ'), ('catch', 'NOUN'), ('lot', 'NOUN'), ('attention', 'NOUN'), ('extremely', 'ADV'), ('build', 'VERB'), ('clear', 'ADJ'), ('screen', 'NOUN'), ('scratch', 'NOUN'), ('free', 'ADJ'), ('gorilla', 'NOUN'), ('glass', 'NOUN'), ('rigid', 'ADJ'), ('case', 'NOUN'), ('kind', 'NOUN'), ('resin', 'NOUN'), ('plus', 'CCONJ'), ('call', 'VERB'), ('clear', 'ADJ'), ('camera', 'NOUN'), ('amazing', 'ADJ'), ('flash', 'NOUN'), ('good', 'ADJ'), ('camera', 'NOUN'), ('button', 'NOUN'), ('conveniently', 'ADV'), ('locate', 'ADJ'), ('charge', 'NOUN'), ('last', 'ADJ'), ('day', 'NOUN'), ('well', 'INTJ'), ('previous', 'ADJ'), ('phone', 'NOUN'), ('speaker', 'NOUN'), ('excellent', 'ADJ'), ('tiny', 'ADJ'), ('device', 'NOUN'), ('like', 'ADP'), ('impressed', 'ADJ'), ('skype', 'ADJ'), ('phenomenal', 'ADJ'), ('phone', 'NOUN'), ('good', 'ADJ'), ('quality', 'NOUN'), ('sound', 'NOUN'), ('video', 'NOUN'), ('see', 'VERB'), ('phone', 'NOUN'), ('app', 'PROPN'), ('need', 'NOUN'), ('nokia', 'NOUN'), ('maps', 'PROPN'), ('brilliant', 'PROPN'), ('bing', 'PROPN'), ('translater', 'PROPN'), ('brilliant', 'PROPN'), ('use', 'NOUN'), ('skype', 'PROPN'), ('google', 'PROPN'), ('voice', 'NOUN'), ('watsapp', 'NOUN'), ('amazon', 'PROPN'), ('mobile', 'PROPN'), ('kindle', 'PROPN'), ('netflix', 'PROPN'), ('facebook', 'VERB'), ('twitter', 'PROPN'), ('tune', 'PROPN'), ('radio', 'PROPN'), ('tango', 'NOUN'), ('phone', 'NOUN'), ('freeze', 'NOUN'), ('crash', 'NOUN'), ('week', 'NOUN'), ('minuse', 'NOUN'), ('external', 'ADJ'), ('memory', 'NOUN'), ('slot', 'NOUN'), ('build', 'VERB'), ('gb', 'ADP'), ('memory', 'NOUN'), ('need', 'NOUN'), ('battery', 'NOUN'), ('non', 'PROPN'), ('removable', 'ADJ'), ('shame', 'PROPN'), ('conclusion', 'NOUN'), ('phone', 'NOUN'), ('impress', 'NOUN'), ('recommend', 'VERB'), ('need', 'AUX'), ('build', 'VERB'), ('phone', 'NOUN'), ('reliable', 'ADJ'), ('clear', 'ADJ'), ('call', 'NOUN'), ('decent', 'ADJ'), ('battery', 'NOUN'), ('life', 'NOUN'), ('well', 'INTJ'), ('phone', 'NOUN'), ('idea', 'NOUN'), ('own', 'VERB'), ('well', 'ADV'), ('way', 'ADV'), ('well', 'ADV'), ('android', 'ADJ'), ('phone', 'NOUN'), ('own', 'ADJ'), ('sure', 'ADV'), ('good', 'ADJ'), ('current', 'ADJ'), ('high', 'ADJ'), ('end', 'NOUN'), ('android', 'NOUN'), ('depend', 'VERB'), ('personal', 'ADJ'), ('preference', 'NOUN'), ('regard', 'NOUN'), ('app', 'NOUN'), ('find', 'VERB'), ('app', 'NOUN'), ('need', 'NOUN'), ('nokia', 'NOUN'), ('maps', 'PROPN'), ('impressive', 'ADJ'), ('stand', 'NOUN'), ('google', 'PROPN'), ('maps', 'PROPN'), ('bing', 'VERB'), ('translater', 'PROPN'), ('impressive', 'ADJ'), ('regret', 'PROPN'), ('switch', 'NOUN'), ('phone', 'NOUN'), ('willing', 'NOUN'), ('try', 'AUX'), ('think', 'VERB'), ('like', 'INTJ')]\n",
            "NER Tags: [('last day', 'DATE'), ('kindle netflix', 'PERSON'), ('week', 'DATE')]\n",
            "POS Tags: [('phone', 'NOUN'), ('fine', 'ADJ'), ('work', 'NOUN'), ('look', 'VERB'), ('good', 'ADJ'), ('damage', 'NOUN'), ('battery', 'NOUN'), ('hold', 'VERB'), ('decent', 'ADJ'), ('charge', 'NOUN'), ('think', 'VERB'), ('test', 'NOUN'), ('battery', 'NOUN'), ('leave', 'NOUN'), ('note', 'NOUN'), ('say', 'VERB'), ('battery', 'NOUN'), ('good', 'ADJ')]\n",
            "NER Tags: []\n",
            "POS Tags: [('phone', 'NOUN'), ('come', 'VERB'), ('fake', 'ADJ'), ('package', 'NOUN'), ('att', 'PROPN'), ('sign', 'PROPN'), ('swirl', 'PROPN'), ('open', 'PROPN'), ('box', 'PROPN'), ('phone', 'NOUN'), ('open', 'ADJ'), ('charger', 'NOUN'), ('manual', 'ADJ'), ('phone', 'NOUN'), ('major', 'ADJ'), ('bumbs', 'ADJ'), ('orderd', 'ADJ'), ('case', 'NOUN'), ('not', 'PART'), ('matter', 'VERB'), ('software', 'NOUN'), ('great', 'ADJ'), ('marketplace', 'NOUN'), ('app', 'NOUN'), ('need', 'VERB'), ('whatsupp', 'PROPN'), ('viber', 'PROPN'), ('facebook', 'PROPN'), ('kik', 'PROPN'), ('x', 'PUNCT'), ('box', 'PROPN'), ('live', 'ADJ'), ('feature', 'NOUN'), ('good', 'ADJ'), ('maden', 'VERB'), ('like', 'ADP'), ('overall', 'ADJ'), ('phone', 'NOUN'), ('great', 'ADJ'), ('price', 'NOUN'), ('whoo', 'VERB'), ('well', 'INTJ'), ('mom', 'NOUN'), ('iphone', 'NOUN')]\n",
            "NER Tags: [('kik', 'LAW')]\n",
            "POS Tags: [('window', 'NOUN'), ('market', 'NOUN'), ('haw', 'PROPN'), ('little', 'ADJ'), ('app', 'NOUN'), ('phone', 'NOUN'), ('setting', 'NOUN'), ('limit', 'NOUN'), ('phone', 'NOUN'), ('music', 'NOUN'), ('application', 'NOUN'), ('screen', 'NOUN'), ('break', 'NOUN'), ('c', 'NOUN')]\n",
            "NER Tags: []\n",
            "POS Tags: [('phone', 'NOUN'), ('value', 'NOUN'), ('money', 'NOUN'), ('app', 'NOUN'), ('feature', 'NOUN'), ('like', 'ADP'), ('iphone', 'NOUN'), ('battery', 'NOUN'), ('last', 'ADJ'), ('day', 'NOUN'), ('max', 'PROPN'), ('depend', 'VERB'), ('talk', 'VERB'), ('iphone', 'NOUN'), ('battery', 'NOUN'), ('life', 'NOUN'), ('well', 'ADV')]\n",
            "NER Tags: [('last day', 'DATE'), ('max', 'PERSON')]\n"
          ]
        }
      ],
      "source": [
        "# Step a: POS and NER Tagging\n",
        "# Extract POS and NER for each sentence\n",
        "def extract_pos_and_ner(text):\n",
        "    doc = nlp(text)\n",
        "    pos_tags = [(token.text, token.pos_) for token in doc]\n",
        "    ner_tags = [(ent.text, ent.label_) for ent in doc.ents]\n",
        "    return pos_tags, ner_tags\n",
        "\n",
        "pos_ner_list = [extract_pos_and_ner(text) for text in df.sample(n=5, random_state=101)['lemmatized_body']]\n",
        "for pos_tags, ner_tags in pos_ner_list:\n",
        "    print(f\"POS Tags: {pos_tags}\")\n",
        "    print(f\"NER Tags: {ner_tags}\")\n"
      ]
    },
    {
      "cell_type": "markdown",
      "metadata": {},
      "source": [
        "### 6b. POS tags and NER tags analysis\n",
        "In the first example, interestingly, NER has not tagged nokia as ORG, while POS has tagged it as noun.\n",
        "\n",
        "#### POS Tags:\n",
        "\"nokia\" is tagged as NOUN, though it is a brand name and would typically be tagged as PROPN (proper noun).\n",
        "#### NER Tags:\n",
        "\"kindle netflix\": The NER tag here is PERSON, which is likely an error. These are brand names and should be tagged as ORG."
      ]
    },
    {
      "cell_type": "markdown",
      "metadata": {},
      "source": [
        "The information from POS tagging and Named Entity Recognition (NER) can significantly enhance deeper text analysis by providing insights into the grammatical structure and semantic meaning of the text.\n",
        "\n",
        "POS tagging helps identify the roles words play in a sentence. This is useful for deeper linguistic analysis. The deeper analysis facilitates tasks such as sentiment analysis, event extraction, entity linking, and document classification. The key takeaway is that by carefully interpreting POS and NER data, you can gain insights that guide decision-making, content creation, and more advanced NLP tasks"
      ]
    }
  ],
  "metadata": {
    "colab": {
      "provenance": []
    },
    "kernelspec": {
      "display_name": "Python 3",
      "name": "python3"
    },
    "language_info": {
      "codemirror_mode": {
        "name": "ipython",
        "version": 3
      },
      "file_extension": ".py",
      "mimetype": "text/x-python",
      "name": "python",
      "nbconvert_exporter": "python",
      "pygments_lexer": "ipython3",
      "version": "3.12.3"
    }
  },
  "nbformat": 4,
  "nbformat_minor": 0
}
